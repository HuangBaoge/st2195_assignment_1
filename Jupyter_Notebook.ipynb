{
 "cells": [
  {
   "cell_type": "markdown",
   "id": "b2cfba6f",
   "metadata": {},
   "source": [
    "## Jupyter Notebook\n",
    "\n",
    "This is my first ST2195 assigment.\n",
    "\n",
    "This notebook will include the answer for Q4. It contains the code for Q3."
   ]
  },
  {
   "cell_type": "code",
   "execution_count": 1,
   "id": "5f00b1ab",
   "metadata": {},
   "outputs": [
    {
     "name": "stdout",
     "output_type": "stream",
     "text": [
      "1\n",
      "2\n",
      "3\n",
      "4\n",
      "5\n",
      "6\n",
      "7\n",
      "8\n",
      "9\n",
      "10\n"
     ]
    }
   ],
   "source": [
    "for i in range(1,10+1):\n",
    "    print(i)"
   ]
  }
 ],
 "metadata": {
  "kernelspec": {
   "display_name": "Python 3",
   "language": "python",
   "name": "python3"
  },
  "language_info": {
   "codemirror_mode": {
    "name": "ipython",
    "version": 3
   },
   "file_extension": ".py",
   "mimetype": "text/x-python",
   "name": "python",
   "nbconvert_exporter": "python",
   "pygments_lexer": "ipython3",
   "version": "3.8.8"
  }
 },
 "nbformat": 4,
 "nbformat_minor": 5
}
